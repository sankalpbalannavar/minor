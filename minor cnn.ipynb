{
 "cells": [
  {
   "cell_type": "code",
   "execution_count": 32,
   "metadata": {},
   "outputs": [],
   "source": [
    "import nibabel as nib\n",
    "import os \n",
    "from scipy import ndimage\n",
    "import numpy as np\n",
    "\n",
    "\n",
    "def read_nifti_file(filepath):\n",
    "    \"\"\"Read and load volume\"\"\"\n",
    "    # Read file\n",
    "    scan = nib.load(\"\\\\Users\\\\HPC\\\\Desktop\\\\minor_files\\\\ImageCHD_dataset\\\\images_with_label\\\\images\")\n",
    "    # Get raw data\n",
    "    scan = scan.get_fdata()\n",
    "    return scan\n",
    "\n",
    "\n",
    "def normalize(volume):\n",
    "    \"\"\"Normalize the volume\"\"\"\n",
    "    min = -1000\n",
    "    max = 400\n",
    "    volume[volume < min] = min\n",
    "    volume[volume > max] = max\n",
    "    volume = (volume - min) / (max - min)\n",
    "    volume = volume.astype(\"float32\")\n",
    "    return volume\n",
    "\n",
    "\n",
    "def resize_volume(img):\n",
    "    \"\"\"Resize across z-axis\"\"\"\n",
    "    # Set the desired depth\n",
    "    desired_depth = 64\n",
    "    desired_width = 128\n",
    "    desired_height = 128\n",
    "    # Get current depth\n",
    "    current_depth = img.shape[-1]\n",
    "    current_width = img.shape[0]\n",
    "    current_height = img.shape[1]\n",
    "    # Compute depth factor\n",
    "    depth = current_depth / desired_depth\n",
    "    width = current_width / desired_width\n",
    "    height = current_height / desired_height\n",
    "    depth_factor = 1 / depth\n",
    "    width_factor = 1 / width\n",
    "    height_factor = 1 / height\n",
    "    # Rotate\n",
    "    img = ndimage.rotate(img, 90, reshape=False)\n",
    "    # Resize across z-axis\n",
    "    img = ndimage.zoom(img, (width_factor, height_factor, depth_factor), order=1)\n",
    "    return img\n",
    "\n",
    "\n",
    "def process_scan(path):\n",
    "    \"\"\"Read and resize volume\"\"\"\n",
    "    # Read scan\n",
    "    volume = read_nifti_file(path)\n",
    "    # Normalize\n",
    "    volume = normalize(volume)\n",
    "    # Resize width, height and depth\n",
    "    volume = resize_volume(volume)\n",
    "    return volume"
   ]
  },
  {
   "cell_type": "code",
   "execution_count": 33,
   "metadata": {},
   "outputs": [
    {
     "name": "stdout",
     "output_type": "stream",
     "text": [
      "CT scans with normal lung tissue: 24\n",
      "CT scans with abnormal lung tissue: 24\n"
     ]
    }
   ],
   "source": [
    "# Folder \"CT-0\" consist of CT scans having normal lung tissue,\n",
    "# no CT-signs of viral pneumonia.\n",
    "normal_scan_paths = [\n",
    "    os.path.join(os.getcwd(), \"\\\\Users\\\\HPC\\\\Desktop\\\\minor_files\\\\ImageCHD_dataset\\\\images_with_label\\\\images\", x)\n",
    "    for x in os.listdir(\"\\\\Users\\\\HPC\\\\Desktop\\\\minor_files\\\\ImageCHD_dataset\\\\images_with_label\\\\images\")\n",
    "]\n",
    "# Folder \"CT-23\" consist of CT scans having several ground-glass opacifications,\n",
    "# involvement of lung parenchyma.\n",
    "abnormal_scan_paths = [\n",
    "    os.path.join(os.getcwd(), \"\\\\Users\\\\HPC\\\\Desktop\\\\minor_files\\\\ImageCHD_dataset\\\\images_with_label\\\\images\", x)\n",
    "    for x in os.listdir(\"\\\\Users\\\\HPC\\\\Desktop\\\\minor_files\\\\ImageCHD_dataset\\\\images_with_label\\\\images\")\n",
    "]\n",
    "\n",
    "print(\"CT scans with normal lung tissue: \" + str(len(normal_scan_paths)))\n",
    "print(\"CT scans with abnormal lung tissue: \" + str(len(abnormal_scan_paths)))"
   ]
  },
  {
   "cell_type": "code",
   "execution_count": 34,
   "metadata": {},
   "outputs": [
    {
     "data": {
      "text/plain": [
       "['c:\\\\Users\\\\HPC\\\\Desktop\\\\minor_files\\\\ImageCHD_dataset\\\\images_with_label\\\\images\\\\ct_1054_image.nii.gz',\n",
       " 'c:\\\\Users\\\\HPC\\\\Desktop\\\\minor_files\\\\ImageCHD_dataset\\\\images_with_label\\\\images\\\\ct_1112_image.nii.gz',\n",
       " 'c:\\\\Users\\\\HPC\\\\Desktop\\\\minor_files\\\\ImageCHD_dataset\\\\images_with_label\\\\images\\\\ct_1120_image.nii.gz',\n",
       " 'c:\\\\Users\\\\HPC\\\\Desktop\\\\minor_files\\\\ImageCHD_dataset\\\\images_with_label\\\\images\\\\ct_1124_image.nii.gz',\n",
       " 'c:\\\\Users\\\\HPC\\\\Desktop\\\\minor_files\\\\ImageCHD_dataset\\\\images_with_label\\\\images\\\\ct_1126_image.nii.gz',\n",
       " 'c:\\\\Users\\\\HPC\\\\Desktop\\\\minor_files\\\\ImageCHD_dataset\\\\images_with_label\\\\images\\\\ct_1127_image.nii.gz',\n",
       " 'c:\\\\Users\\\\HPC\\\\Desktop\\\\minor_files\\\\ImageCHD_dataset\\\\images_with_label\\\\images\\\\ct_1128_image.nii.gz',\n",
       " 'c:\\\\Users\\\\HPC\\\\Desktop\\\\minor_files\\\\ImageCHD_dataset\\\\images_with_label\\\\images\\\\ct_1129_image.nii.gz',\n",
       " 'c:\\\\Users\\\\HPC\\\\Desktop\\\\minor_files\\\\ImageCHD_dataset\\\\images_with_label\\\\images\\\\ct_1133_image.nii.gz',\n",
       " 'c:\\\\Users\\\\HPC\\\\Desktop\\\\minor_files\\\\ImageCHD_dataset\\\\images_with_label\\\\images\\\\ct_1135_image.nii.gz',\n",
       " 'c:\\\\Users\\\\HPC\\\\Desktop\\\\minor_files\\\\ImageCHD_dataset\\\\images_with_label\\\\images\\\\ct_1138_image.nii.gz',\n",
       " 'c:\\\\Users\\\\HPC\\\\Desktop\\\\minor_files\\\\ImageCHD_dataset\\\\images_with_label\\\\images\\\\ct_1139_image.nii.gz',\n",
       " 'c:\\\\Users\\\\HPC\\\\Desktop\\\\minor_files\\\\ImageCHD_dataset\\\\images_with_label\\\\images\\\\ct_1140_image.nii.gz',\n",
       " 'c:\\\\Users\\\\HPC\\\\Desktop\\\\minor_files\\\\ImageCHD_dataset\\\\images_with_label\\\\images\\\\ct_1143_image.nii.gz',\n",
       " 'c:\\\\Users\\\\HPC\\\\Desktop\\\\minor_files\\\\ImageCHD_dataset\\\\images_with_label\\\\images\\\\ct_1144_image.nii.gz',\n",
       " 'c:\\\\Users\\\\HPC\\\\Desktop\\\\minor_files\\\\ImageCHD_dataset\\\\images_with_label\\\\images\\\\ct_1145_image.nii.gz',\n",
       " 'c:\\\\Users\\\\HPC\\\\Desktop\\\\minor_files\\\\ImageCHD_dataset\\\\images_with_label\\\\images\\\\ct_1146_image.nii.gz',\n",
       " 'c:\\\\Users\\\\HPC\\\\Desktop\\\\minor_files\\\\ImageCHD_dataset\\\\images_with_label\\\\images\\\\ct_1147_image.nii.gz',\n",
       " 'c:\\\\Users\\\\HPC\\\\Desktop\\\\minor_files\\\\ImageCHD_dataset\\\\images_with_label\\\\images\\\\ct_1148_image.nii.gz',\n",
       " 'c:\\\\Users\\\\HPC\\\\Desktop\\\\minor_files\\\\ImageCHD_dataset\\\\images_with_label\\\\images\\\\ct_1150_image.nii.gz',\n",
       " 'c:\\\\Users\\\\HPC\\\\Desktop\\\\minor_files\\\\ImageCHD_dataset\\\\images_with_label\\\\images\\\\ct_1158_image.nii.gz',\n",
       " 'c:\\\\Users\\\\HPC\\\\Desktop\\\\minor_files\\\\ImageCHD_dataset\\\\images_with_label\\\\images\\\\ct_1161_image.nii.gz',\n",
       " 'c:\\\\Users\\\\HPC\\\\Desktop\\\\minor_files\\\\ImageCHD_dataset\\\\images_with_label\\\\images\\\\ct_1170_image.nii.gz',\n",
       " 'c:\\\\Users\\\\HPC\\\\Desktop\\\\minor_files\\\\ImageCHD_dataset\\\\images_with_label\\\\images\\\\ct_1178_image.nii.gz']"
      ]
     },
     "execution_count": 34,
     "metadata": {},
     "output_type": "execute_result"
    }
   ],
   "source": [
    "normal_scan_paths"
   ]
  },
  {
   "cell_type": "code",
   "execution_count": 35,
   "metadata": {},
   "outputs": [
    {
     "ename": "ImageFileError",
     "evalue": "Cannot work out file type of \"\\Users\\HPC\\Desktop\\minor_files\\ImageCHD_dataset\\images_with_label\\images\"",
     "output_type": "error",
     "traceback": [
      "\u001b[1;31m---------------------------------------------------------------------------\u001b[0m",
      "\u001b[1;31mImageFileError\u001b[0m                            Traceback (most recent call last)",
      "Cell \u001b[1;32mIn[35], line 3\u001b[0m\n\u001b[0;32m      1\u001b[0m \u001b[39m# Read and process the scans.\u001b[39;00m\n\u001b[0;32m      2\u001b[0m \u001b[39m# Each scan is resized across height, width, and depth and rescaled.\u001b[39;00m\n\u001b[1;32m----> 3\u001b[0m abnormal_scans \u001b[39m=\u001b[39m np\u001b[39m.\u001b[39marray([process_scan(path) \u001b[39mfor\u001b[39;00m path \u001b[39min\u001b[39;00m abnormal_scan_paths])\n\u001b[0;32m      4\u001b[0m normal_scans \u001b[39m=\u001b[39m np\u001b[39m.\u001b[39marray([process_scan(path) \u001b[39mfor\u001b[39;00m path \u001b[39min\u001b[39;00m normal_scan_paths])\n\u001b[0;32m      6\u001b[0m \u001b[39m# For the CT scans having presence of viral pneumonia\u001b[39;00m\n\u001b[0;32m      7\u001b[0m \u001b[39m# assign 1, for the normal ones assign 0.\u001b[39;00m\n",
      "Cell \u001b[1;32mIn[35], line 3\u001b[0m, in \u001b[0;36m<listcomp>\u001b[1;34m(.0)\u001b[0m\n\u001b[0;32m      1\u001b[0m \u001b[39m# Read and process the scans.\u001b[39;00m\n\u001b[0;32m      2\u001b[0m \u001b[39m# Each scan is resized across height, width, and depth and rescaled.\u001b[39;00m\n\u001b[1;32m----> 3\u001b[0m abnormal_scans \u001b[39m=\u001b[39m np\u001b[39m.\u001b[39marray([process_scan(path) \u001b[39mfor\u001b[39;00m path \u001b[39min\u001b[39;00m abnormal_scan_paths])\n\u001b[0;32m      4\u001b[0m normal_scans \u001b[39m=\u001b[39m np\u001b[39m.\u001b[39marray([process_scan(path) \u001b[39mfor\u001b[39;00m path \u001b[39min\u001b[39;00m normal_scan_paths])\n\u001b[0;32m      6\u001b[0m \u001b[39m# For the CT scans having presence of viral pneumonia\u001b[39;00m\n\u001b[0;32m      7\u001b[0m \u001b[39m# assign 1, for the normal ones assign 0.\u001b[39;00m\n",
      "Cell \u001b[1;32mIn[32], line 54\u001b[0m, in \u001b[0;36mprocess_scan\u001b[1;34m(path)\u001b[0m\n\u001b[0;32m     52\u001b[0m \u001b[39m\u001b[39m\u001b[39m\"\"\"Read and resize volume\"\"\"\u001b[39;00m\n\u001b[0;32m     53\u001b[0m \u001b[39m# Read scan\u001b[39;00m\n\u001b[1;32m---> 54\u001b[0m volume \u001b[39m=\u001b[39m read_nifti_file(path)\n\u001b[0;32m     55\u001b[0m \u001b[39m# Normalize\u001b[39;00m\n\u001b[0;32m     56\u001b[0m volume \u001b[39m=\u001b[39m normalize(volume)\n",
      "Cell \u001b[1;32mIn[32], line 10\u001b[0m, in \u001b[0;36mread_nifti_file\u001b[1;34m(filepath)\u001b[0m\n\u001b[0;32m      8\u001b[0m \u001b[39m\u001b[39m\u001b[39m\"\"\"Read and load volume\"\"\"\u001b[39;00m\n\u001b[0;32m      9\u001b[0m \u001b[39m# Read file\u001b[39;00m\n\u001b[1;32m---> 10\u001b[0m scan \u001b[39m=\u001b[39m nib\u001b[39m.\u001b[39;49mload(\u001b[39m\"\u001b[39;49m\u001b[39m\\\\\u001b[39;49;00m\u001b[39mUsers\u001b[39;49m\u001b[39m\\\\\u001b[39;49;00m\u001b[39mHPC\u001b[39;49m\u001b[39m\\\\\u001b[39;49;00m\u001b[39mDesktop\u001b[39;49m\u001b[39m\\\\\u001b[39;49;00m\u001b[39mminor_files\u001b[39;49m\u001b[39m\\\\\u001b[39;49;00m\u001b[39mImageCHD_dataset\u001b[39;49m\u001b[39m\\\\\u001b[39;49;00m\u001b[39mimages_with_label\u001b[39;49m\u001b[39m\\\\\u001b[39;49;00m\u001b[39mimages\u001b[39;49m\u001b[39m\"\u001b[39;49m)\n\u001b[0;32m     11\u001b[0m \u001b[39m# Get raw data\u001b[39;00m\n\u001b[0;32m     12\u001b[0m scan \u001b[39m=\u001b[39m scan\u001b[39m.\u001b[39mget_fdata()\n",
      "File \u001b[1;32mc:\\Users\\HPC\\AppData\\Local\\Programs\\Python\\Python39\\lib\\site-packages\\nibabel\\loadsave.py:104\u001b[0m, in \u001b[0;36mload\u001b[1;34m(filename, **kwargs)\u001b[0m\n\u001b[0;32m    101\u001b[0m \u001b[39mif\u001b[39;00m \u001b[39mnot\u001b[39;00m matches:\n\u001b[0;32m    102\u001b[0m     \u001b[39mraise\u001b[39;00m ImageFileError(msg)\n\u001b[1;32m--> 104\u001b[0m \u001b[39mraise\u001b[39;00m ImageFileError(\u001b[39mf\u001b[39m\u001b[39m'\u001b[39m\u001b[39mCannot work out file type of \u001b[39m\u001b[39m\"\u001b[39m\u001b[39m{\u001b[39;00mfilename\u001b[39m}\u001b[39;00m\u001b[39m\"\u001b[39m\u001b[39m'\u001b[39m)\n",
      "\u001b[1;31mImageFileError\u001b[0m: Cannot work out file type of \"\\Users\\HPC\\Desktop\\minor_files\\ImageCHD_dataset\\images_with_label\\images\""
     ]
    }
   ],
   "source": [
    "# Read and process the scans.\n",
    "# Each scan is resized across height, width, and depth and rescaled.\n",
    "abnormal_scans = np.array([process_scan(path) for path in abnormal_scan_paths])\n",
    "normal_scans = np.array([process_scan(path) for path in normal_scan_paths])\n",
    "\n",
    "# For the CT scans having presence of viral pneumonia\n",
    "# assign 1, for the normal ones assign 0.\n",
    "abnormal_labels = np.array([1 for _ in range(len(abnormal_scans))])\n",
    "normal_labels = np.array([0 for _ in range(len(normal_scans))])\n",
    "\n",
    "# Split data in the ratio 70-30 for training and validation.\n",
    "x_train = np.concatenate((abnormal_scans[:10], normal_scans[:10]), axis=0)\n",
    "y_train = np.concatenate((abnormal_labels[:10], normal_labels[:10]), axis=0)\n",
    "x_val = np.concatenate((abnormal_scans[10:], normal_scans[10:]), axis=0)\n",
    "y_val = np.concatenate((abnormal_labels[10:], normal_labels[10:]), axis=0)\n",
    "print(\n",
    "    \"Number of samples in train and validation are %d and %d.\"\n",
    "    % (x_train.shape[0], x_val.shape[0])\n",
    ")"
   ]
  },
  {
   "cell_type": "code",
   "execution_count": null,
   "metadata": {},
   "outputs": [],
   "source": []
  },
  {
   "cell_type": "code",
   "execution_count": null,
   "metadata": {},
   "outputs": [],
   "source": []
  }
 ],
 "metadata": {
  "kernelspec": {
   "display_name": "Python 3",
   "language": "python",
   "name": "python3"
  },
  "language_info": {
   "codemirror_mode": {
    "name": "ipython",
    "version": 3
   },
   "file_extension": ".py",
   "mimetype": "text/x-python",
   "name": "python",
   "nbconvert_exporter": "python",
   "pygments_lexer": "ipython3",
   "version": "3.9.0"
  },
  "orig_nbformat": 4
 },
 "nbformat": 4,
 "nbformat_minor": 2
}
